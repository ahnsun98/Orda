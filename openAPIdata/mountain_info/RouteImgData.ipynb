{
 "cells": [
  {
   "cell_type": "code",
   "execution_count": 23,
   "id": "44fefed0",
   "metadata": {},
   "outputs": [],
   "source": [
    "from bs4 import BeautifulSoup\n",
    "import urllib.request\n",
    "import pandas as pd\n",
    "import numpy as np\n",
    "import datetime\n",
    "import sqlite3\n",
    "import re\n",
    "\n",
    "# DB\n",
    "db = sqlite3.connect(\"C:/Users/User/OneDrive - KT CORPORATION/바탕 화면/AIVLE/강의자료/11. Django/미니프로젝트/Project/orda/db.sqlite3\")"
   ]
  },
  {
   "cell_type": "code",
   "execution_count": 24,
   "id": "d0c83032",
   "metadata": {},
   "outputs": [],
   "source": [
    "url = 'https://ilikesan.com/entry/%EC%A0%84%EA%B5%AD-%EB%93%B1%EC%82%B0%EC%A7%80%EB%8F%84-%EB%AA%A8%EC%9D%8C'\n",
    "html = urllib.request.urlopen(url)\n",
    "soup = BeautifulSoup(html, 'html.parser')\n",
    "\n",
    "# name = soup.select('a.con_link')[0].string\n",
    "# li1 = str(soup.select('a.con_link')[0]).split('>')\n",
    "# li2 = [l.split(' ') for l in li1]\n",
    "# href = li2[0][2].split('=')[1]\n",
    "# print(name, href)\n",
    "\n",
    "# 산 이름, 이미지링크 크롤링\n",
    "res = []\n",
    "for link in soup.select('a.con_link'):\n",
    "    name = str(link.string).split('(')[0]\n",
    "    name = re.sub('[^가-힣]', '', name)\n",
    "    li1 = str(link).split('>')\n",
    "    li2 = [l.split(' ') for l in li1]\n",
    "    href = li2[0][2].split('=')[1]\n",
    "    res.append([name, href])\n",
    "\n",
    "    \n",
    "# 데이터프레임 생성\n",
    "mountain_route_df = pd.DataFrame(res, columns=('name','link'))\n",
    "mountain_route_df = mountain_route_df.replace('', np.NaN)\n",
    "mountain_route_df.dropna()\n",
    "\n",
    "# 데이터프레임 to SQL\n",
    "mountain_route_df.to_sql('mountain_route', db)"
   ]
  }
 ],
 "metadata": {
  "kernelspec": {
   "display_name": "Python 3 (ipykernel)",
   "language": "python",
   "name": "python3"
  },
  "language_info": {
   "codemirror_mode": {
    "name": "ipython",
    "version": 3
   },
   "file_extension": ".py",
   "mimetype": "text/x-python",
   "name": "python",
   "nbconvert_exporter": "python",
   "pygments_lexer": "ipython3",
   "version": "3.9.7"
  }
 },
 "nbformat": 4,
 "nbformat_minor": 5
}
